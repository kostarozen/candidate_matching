{
 "cells": [
  {
   "cell_type": "markdown",
   "id": "b5e044a6",
   "metadata": {},
   "source": [
    "In this notebook, experience embedding model is trained. It will later be used in order to find best matching candidates for every position.\n",
    "\n",
    "Train/test split, evaluating different models and hyperparameter tuning were done in another notebook, so in this notebook I'm already training the best model."
   ]
  },
  {
   "cell_type": "markdown",
   "id": "f8a54c6e",
   "metadata": {},
   "source": [
    "# Imports"
   ]
  },
  {
   "cell_type": "code",
   "execution_count": 1,
   "id": "81aca59e",
   "metadata": {},
   "outputs": [],
   "source": [
    "import numpy as np\n",
    "import pandas as pd\n",
    "from sklearn.metrics.pairwise import cosine_similarity\n",
    "from gensim.parsing.preprocessing import remove_stopwords\n",
    "from gensim.models import FastText # using FastText and not word2vec as it can handle out-of-vocabulary terms"
   ]
  },
  {
   "cell_type": "code",
   "execution_count": 16,
   "id": "d3a9d432",
   "metadata": {},
   "outputs": [],
   "source": [
    "max_matches = 10\n",
    "emb_dim = 16\n",
    "context_window = 128\n",
    "min_term_count = 3\n",
    "epochs = 150"
   ]
  },
  {
   "cell_type": "markdown",
   "id": "1b317f67",
   "metadata": {},
   "source": [
    "# Load data"
   ]
  },
  {
   "cell_type": "code",
   "execution_count": 2,
   "id": "83cec08f",
   "metadata": {},
   "outputs": [],
   "source": [
    "contacts = pd.read_csv('Contacts.csv', index_col=[0])\n",
    "edu = pd.read_csv('Education.csv', index_col=[0])\n",
    "exp = pd.read_csv('Experience.csv', index_col=[0], parse_dates = [1,2])\n",
    "hires = pd.read_csv('Hires.csv', index_col=[1])\n",
    "old_req_titles = pd.read_csv('Old RUS req titles.csv', index_col=[0])\n",
    "open_reqs = pd.read_excel('Open Req Data.xlsx', index_col=[0], sheet_name = 'ReqDetails')"
   ]
  },
  {
   "cell_type": "markdown",
   "id": "5b4bac32",
   "metadata": {},
   "source": [
    "# Create a combined Candidate record dataframe\n",
    "* Calculate max degree\n",
    "* Calculate Years of experience\n",
    "* Concat all expereinces together"
   ]
  },
  {
   "cell_type": "code",
   "execution_count": 3,
   "id": "e6e26c65",
   "metadata": {},
   "outputs": [],
   "source": [
    "# group contact experience by contactid and cacl Years of experience & list of job titles\n",
    "gb = exp.reset_index().groupby(['Contact Id'])\n",
    "exp_summary = gb.agg({'Job Start Date':'min', 'Job End Date':'max', 'Job Title': list})\n",
    "exp_summary['Years Of Experience'] = (exp_summary['Job End Date'] - exp_summary['Job Start Date']) / np.timedelta64(1, 'Y')\n",
    "exp_summary.drop(['Job Start Date', 'Job End Date'], axis=1, inplace=True)\n",
    "exp_summary.columns = ['All Job Titles','Years Of Experience']"
   ]
  },
  {
   "cell_type": "code",
   "execution_count": 4,
   "id": "b5edb57e",
   "metadata": {},
   "outputs": [],
   "source": [
    "bachelor_terms = ['bsee','bsce','bscs','bachelor','bachelors','btech','bs','bsc','ba','bcom','bca','baccalaureate','beng','bachiller','undergraduate']\n",
    "masters_terms = ['msee','msce','mscs','master','masters','mba','ms','msc','mtech','mca','postgraduate','ma','magister','meng']\n",
    "phd_terms = ['doctor','doctorate','phd']\n",
    "    \n",
    "def get_degree(text):\n",
    "    text = text.lower()\n",
    "    for token in bachelor_terms:\n",
    "        if token in text:\n",
    "            return 1\n",
    "    for token in masters_terms:\n",
    "         if token in text:\n",
    "            return 2\n",
    "    for token in phd_terms:\n",
    "         if token in text:\n",
    "            return 3\n",
    "    return 0"
   ]
  },
  {
   "cell_type": "code",
   "execution_count": 5,
   "id": "50afd628",
   "metadata": {},
   "outputs": [
    {
     "data": {
      "text/html": [
       "<div>\n",
       "<style scoped>\n",
       "    .dataframe tbody tr th:only-of-type {\n",
       "        vertical-align: middle;\n",
       "    }\n",
       "\n",
       "    .dataframe tbody tr th {\n",
       "        vertical-align: top;\n",
       "    }\n",
       "\n",
       "    .dataframe thead th {\n",
       "        text-align: right;\n",
       "    }\n",
       "</style>\n",
       "<table border=\"1\" class=\"dataframe\">\n",
       "  <thead>\n",
       "    <tr style=\"text-align: right;\">\n",
       "      <th></th>\n",
       "      <th>Degree Level</th>\n",
       "      <th>Discipline Category</th>\n",
       "      <th>Major</th>\n",
       "      <th>Grad Year</th>\n",
       "      <th>Graduated</th>\n",
       "      <th>Degree Level Int</th>\n",
       "    </tr>\n",
       "    <tr>\n",
       "      <th>Contact Id</th>\n",
       "      <th></th>\n",
       "      <th></th>\n",
       "      <th></th>\n",
       "      <th></th>\n",
       "      <th></th>\n",
       "      <th></th>\n",
       "    </tr>\n",
       "  </thead>\n",
       "  <tbody>\n",
       "    <tr>\n",
       "      <th>41967680</th>\n",
       "      <td></td>\n",
       "      <td>NaN</td>\n",
       "      <td>NaN</td>\n",
       "      <td>4031</td>\n",
       "      <td>Y</td>\n",
       "      <td>0</td>\n",
       "    </tr>\n",
       "    <tr>\n",
       "      <th>41962093</th>\n",
       "      <td>Bachelor of Computer Science</td>\n",
       "      <td>Computer Science/Software</td>\n",
       "      <td>Software Engineering</td>\n",
       "      <td>2021</td>\n",
       "      <td>Y</td>\n",
       "      <td>1</td>\n",
       "    </tr>\n",
       "    <tr>\n",
       "      <th>41961851</th>\n",
       "      <td></td>\n",
       "      <td>NaN</td>\n",
       "      <td>British and American Studies</td>\n",
       "      <td>2018</td>\n",
       "      <td>Y</td>\n",
       "      <td>0</td>\n",
       "    </tr>\n",
       "    <tr>\n",
       "      <th>41961851</th>\n",
       "      <td>Bachelor's</td>\n",
       "      <td>NaN</td>\n",
       "      <td>English &amp; Spanish languages</td>\n",
       "      <td>2016</td>\n",
       "      <td>Y</td>\n",
       "      <td>1</td>\n",
       "    </tr>\n",
       "    <tr>\n",
       "      <th>41961851</th>\n",
       "      <td>Bachelor's</td>\n",
       "      <td>NaN</td>\n",
       "      <td>Finance and Credit</td>\n",
       "      <td>2017</td>\n",
       "      <td>Y</td>\n",
       "      <td>1</td>\n",
       "    </tr>\n",
       "  </tbody>\n",
       "</table>\n",
       "</div>"
      ],
      "text/plain": [
       "                            Degree Level        Discipline Category  \\\n",
       "Contact Id                                                            \n",
       "41967680                                                        NaN   \n",
       "41962093    Bachelor of Computer Science  Computer Science/Software   \n",
       "41961851                                                        NaN   \n",
       "41961851                      Bachelor's                        NaN   \n",
       "41961851                      Bachelor's                        NaN   \n",
       "\n",
       "                                   Major  Grad Year Graduated  \\\n",
       "Contact Id                                                      \n",
       "41967680                             NaN       4031         Y   \n",
       "41962093            Software Engineering       2021         Y   \n",
       "41961851    British and American Studies       2018         Y   \n",
       "41961851     English & Spanish languages       2016         Y   \n",
       "41961851              Finance and Credit       2017         Y   \n",
       "\n",
       "            Degree Level Int  \n",
       "Contact Id                    \n",
       "41967680                   0  \n",
       "41962093                   1  \n",
       "41961851                   0  \n",
       "41961851                   1  \n",
       "41961851                   1  "
      ]
     },
     "execution_count": 5,
     "metadata": {},
     "output_type": "execute_result"
    }
   ],
   "source": [
    "edu['Degree Level'].fillna('', inplace=True)\n",
    "edu['Degree Level Int'] = edu['Degree Level'].apply(get_degree)\n",
    "edu.head()"
   ]
  },
  {
   "cell_type": "code",
   "execution_count": 6,
   "id": "5d028926",
   "metadata": {},
   "outputs": [],
   "source": [
    "edu_summary = edu.reset_index().groupby('Contact Id').agg({'Degree Level Int':'max'}) # get max degree for each contact\n",
    "# merge education and experience summary data into the main contact df\n",
    "full_contacts = contacts.merge(edu_summary, how='inner', left_index = True, right_index=True).merge(exp_summary, how='inner', left_index = True, right_index=True)"
   ]
  },
  {
   "cell_type": "markdown",
   "id": "4b20bf25",
   "metadata": {},
   "source": [
    "# Prepare data for experience embedding model training\n",
    "\n",
    "* Combine hire experiences with filled req titles into one dataframe\n",
    "* Concatenate hire experiences with filled req titles into one column"
   ]
  },
  {
   "cell_type": "markdown",
   "id": "e68e53c6",
   "metadata": {},
   "source": [
    "## Testset"
   ]
  },
  {
   "cell_type": "code",
   "execution_count": 7,
   "id": "1a802628",
   "metadata": {},
   "outputs": [],
   "source": [
    "exp_testset = old_req_titles.merge(hires, how='inner', left_index = True, right_index=True) # merge req titles with hire candidate id\n",
    "# merge contact experience based on candidate id\n",
    "exp_testset = full_contacts[['WD Candidate Id','All Job Titles']].merge(exp_testset[['Candidate Id','Job Title']], how='inner', left_on = 'WD Candidate Id', right_on = 'Candidate Id')"
   ]
  },
  {
   "cell_type": "code",
   "execution_count": 8,
   "id": "e64544b2",
   "metadata": {},
   "outputs": [],
   "source": [
    "exp_testset['Combined'] = exp_testset['All Job Titles'].astype(str) + exp_testset['Job Title'].astype(str)"
   ]
  },
  {
   "cell_type": "code",
   "execution_count": 9,
   "id": "6b6a6016",
   "metadata": {},
   "outputs": [],
   "source": [
    "def clean_text_column(col):\n",
    "    col = col.astype(str)                              # convert to string\n",
    "    col = col.str.lower()                              # lowercase\n",
    "    col = col.replace(\"\\W\",\" \", regex = True)          # remove all non-alphanumeric characters\n",
    "    col = col.replace(\"\\d\",\" \", regex = True)          # remove all numeric characters\n",
    "    col = col.replace(\"\\s+\", \" \", regex = True)        # replace all whitspace chars with a single space character\n",
    "    col = col.replace(\"nan\", \"\", regex = True)         # remove 'nan' entries\n",
    "    col = col.str.strip()                              # strip training spaces\n",
    "    return col"
   ]
  },
  {
   "cell_type": "code",
   "execution_count": 10,
   "id": "ba7acbf9",
   "metadata": {},
   "outputs": [],
   "source": [
    "# clean all text columns\n",
    "exp_testset['All Job Titles'] = clean_text_column(exp_testset['All Job Titles'])\n",
    "exp_testset['Job Title'] = clean_text_column(exp_testset['Job Title'])\n",
    "exp_testset['Combined'] = clean_text_column(exp_testset['Combined'])"
   ]
  },
  {
   "cell_type": "markdown",
   "id": "312c1b76",
   "metadata": {},
   "source": [
    "## Trainset"
   ]
  },
  {
   "cell_type": "code",
   "execution_count": 11,
   "id": "fbd4b66c",
   "metadata": {},
   "outputs": [],
   "source": [
    "exp_trainset = clean_text_column(full_contacts['All Job Titles']) # get experiences of all candiates and clean them\n",
    "exp_trainset = exp_trainset[exp_trainset!=''] # remove blanks"
   ]
  },
  {
   "cell_type": "markdown",
   "id": "22ad7268",
   "metadata": {},
   "source": [
    "## Combine train+test and format them"
   ]
  },
  {
   "cell_type": "code",
   "execution_count": 14,
   "id": "e5c5923a",
   "metadata": {},
   "outputs": [],
   "source": [
    "# combine data used for model training (candidate experience) as well as combined hires experience including their req tile\n",
    "testset_list_of_lists = exp_testset['Combined'].apply(remove_stopwords).str.split().to_list() # prepare combined hires experience in format required by fasttext\n",
    "trainset_list_of_lists = exp_trainset.apply(remove_stopwords).str.split().to_list() # prepare candidates experience in format required by fasttext\n",
    "full_exp_data = trainset_list_of_lists + testset_list_of_lists # combine training data + test data"
   ]
  },
  {
   "cell_type": "markdown",
   "id": "3cffb79c",
   "metadata": {},
   "source": [
    "# Train word embedding model for experience embedding"
   ]
  },
  {
   "cell_type": "code",
   "execution_count": 23,
   "id": "698cf819",
   "metadata": {},
   "outputs": [],
   "source": [
    "# train the model\n",
    "fasttext_model = FastText(sentences=full_exp_data, vector_size=emb_dim, window=context_window, min_count=min_term_count, epochs=epochs)\n",
    "word_vectors = fasttext_model.wv # get word_vectors object"
   ]
  },
  {
   "cell_type": "markdown",
   "id": "f03d8b40",
   "metadata": {},
   "source": [
    "# Inference on testset"
   ]
  },
  {
   "cell_type": "code",
   "execution_count": 36,
   "id": "707e78b0",
   "metadata": {},
   "outputs": [],
   "source": [
    "# take a list of documents and word vectors object and return document embedding (as mean word embedding)\n",
    "def embed_documents(documents, word_vectors):\n",
    "    if (type(documents)!=list): # if the input is not a list, but a series, we will convert it to list of lists\n",
    "        documents = documents.str.split().to_list() # convert each document to a list of tokens, so this will return a list of lists\n",
    "    doc_vectors = []\n",
    "    for doc in documents:\n",
    "        if len(doc)>0:\n",
    "            doc_vectors.append(word_vectors[doc].mean(axis=0)) # embed each document token and save mean embedding\n",
    "        else:\n",
    "            doc_vectors.append(np.zeros(word_vectors.vector_size)) # if the document is empty, return an zero vector of an approprizte size\n",
    "    return np.array(doc_vectors)"
   ]
  },
  {
   "cell_type": "code",
   "execution_count": 25,
   "id": "5dfdca31",
   "metadata": {},
   "outputs": [],
   "source": [
    "# clean prepare columns for inference\n",
    "exp_testset_req_job_titles_clean = exp_testset['Job Title'].apply(remove_stopwords)\n",
    "exp_testset_hire_job_titles_clean = exp_testset['All Job Titles'].apply(remove_stopwords)"
   ]
  },
  {
   "cell_type": "code",
   "execution_count": 37,
   "id": "9a6760b1",
   "metadata": {},
   "outputs": [],
   "source": [
    "# validate on hire data (of course, the result will be high due to target leakage)\n",
    "req_titles_matrix = embed_documents(exp_testset_req_job_titles_clean, word_vectors) # embed hire req title\n",
    "experience_matrix = embed_documents(exp_testset_hire_job_titles_clean, word_vectors) # embed candidate experience text"
   ]
  },
  {
   "cell_type": "code",
   "execution_count": 46,
   "id": "fb044b84",
   "metadata": {},
   "outputs": [
    {
     "name": "stdout",
     "output_type": "stream",
     "text": [
      "Average hire got a match of 0.401, while baseline match of a random req/hire combination is 0.171\n",
      "lift is 2.340\n"
     ]
    }
   ],
   "source": [
    "sim = cosine_similarity(req_titles_matrix, experience_matrix) # calculate similarity for each row in these matrices\n",
    "mean_hire_match_topic_model = sim.trace() / len(req_titles_matrix) # caclulate average similarity between relevant items (hire req title and hire previous experience)\n",
    "mean_match_topic_model = sim.mean()\n",
    "print(f'Average hire got a match of {mean_hire_match_topic_model:.3f}, while baseline match of a random req/hire combination is {mean_match_topic_model:.3f}')\n",
    "print(f'lift is {mean_hire_match_topic_model/mean_match_topic_model:.3f}')"
   ]
  },
  {
   "cell_type": "code",
   "execution_count": 47,
   "id": "ed5fd134",
   "metadata": {},
   "outputs": [
    {
     "data": {
      "text/plain": [
       "0.44259718"
      ]
     },
     "execution_count": 47,
     "metadata": {},
     "output_type": "execute_result"
    }
   ],
   "source": [
    "word_vectors.similarity(\"developer\", \"programmer\")"
   ]
  },
  {
   "cell_type": "markdown",
   "id": "b6d63057",
   "metadata": {},
   "source": [
    "## Pickle the model"
   ]
  },
  {
   "cell_type": "code",
   "execution_count": 48,
   "id": "a27523a4",
   "metadata": {},
   "outputs": [],
   "source": [
    "fasttext_model.save('FastText_Embedding') # save the full model, with dictionary and other attributes"
   ]
  },
  {
   "cell_type": "markdown",
   "id": "cd313bde",
   "metadata": {},
   "source": [
    "## Test model loading"
   ]
  },
  {
   "cell_type": "code",
   "execution_count": 50,
   "id": "71a1eea6",
   "metadata": {},
   "outputs": [],
   "source": [
    "loaded_model = FastText.load('FastText_Embedding') # load the model later, at inference"
   ]
  },
  {
   "cell_type": "code",
   "execution_count": 51,
   "id": "937c9e05",
   "metadata": {},
   "outputs": [
    {
     "data": {
      "text/plain": [
       "<gensim.models.fasttext.FastText at 0x21577b4cc70>"
      ]
     },
     "execution_count": 51,
     "metadata": {},
     "output_type": "execute_result"
    }
   ],
   "source": [
    "loaded_model"
   ]
  },
  {
   "cell_type": "code",
   "execution_count": 52,
   "id": "6fc8e2ad",
   "metadata": {},
   "outputs": [
    {
     "data": {
      "text/plain": [
       "0.44259718"
      ]
     },
     "execution_count": 52,
     "metadata": {},
     "output_type": "execute_result"
    }
   ],
   "source": [
    "word_vectors = loaded_model.wv # get word_vectors object\n",
    "word_vectors.similarity(\"developer\", \"programmer\")"
   ]
  },
  {
   "cell_type": "markdown",
   "id": "4f83c20a",
   "metadata": {},
   "source": [
    "## Some manual testing of matches"
   ]
  },
  {
   "cell_type": "code",
   "execution_count": 53,
   "id": "f22a2bb5",
   "metadata": {},
   "outputs": [],
   "source": [
    "term1 = 'Software Validation Engineer (Computer Vision, Integration)'\n",
    "term2 = 'collecting and processing employee payroll data'\n",
    "term3 = 'System Administrator, Entrepreneur, Software Engineer, Software Engineer'\n",
    "term4 = 'Network Engineer, Engineer, Software Engineer'\n",
    "\n",
    "terms = pd.Series([term1, term2, term3, term4])"
   ]
  },
  {
   "cell_type": "code",
   "execution_count": 54,
   "id": "dc05a049",
   "metadata": {},
   "outputs": [
    {
     "data": {
      "text/plain": [
       "array([[1.0000001 , 0.17078729, 0.5373685 , 0.6881934 ],\n",
       "       [0.17078729, 0.9999998 , 0.19011727, 0.04270445],\n",
       "       [0.5373685 , 0.19011727, 0.9999999 , 0.8458737 ],\n",
       "       [0.6881934 , 0.04270445, 0.8458737 , 0.9999999 ]], dtype=float32)"
      ]
     },
     "execution_count": 54,
     "metadata": {},
     "output_type": "execute_result"
    }
   ],
   "source": [
    "terms_embeddings = embed_documents(terms, word_vectors)\n",
    "cosine_similarity(terms_embeddings, terms_embeddings)"
   ]
  }
 ],
 "metadata": {
  "kernelspec": {
   "display_name": "Python 3",
   "language": "python",
   "name": "python3"
  },
  "language_info": {
   "codemirror_mode": {
    "name": "ipython",
    "version": 3
   },
   "file_extension": ".py",
   "mimetype": "text/x-python",
   "name": "python",
   "nbconvert_exporter": "python",
   "pygments_lexer": "ipython3",
   "version": "3.8.3"
  }
 },
 "nbformat": 4,
 "nbformat_minor": 5
}
