{
 "cells": [
  {
   "cell_type": "markdown",
   "id": "1282fb44",
   "metadata": {},
   "source": [
    "The code below uses a pre-trained experience embedding model in order to the find best matches for every position (called also requision or req in short).\n",
    "\n",
    "The match is based on degree level, years of experience and experience matching "
   ]
  },
  {
   "cell_type": "markdown",
   "id": "d70ee658",
   "metadata": {},
   "source": [
    "# Imports"
   ]
  },
  {
   "cell_type": "code",
   "execution_count": 2,
   "id": "2e989dc9",
   "metadata": {},
   "outputs": [],
   "source": [
    "import numpy as np\n",
    "import pandas as pd\n",
    "from sklearn.metrics.pairwise import cosine_similarity\n",
    "from gensim.parsing.preprocessing import remove_stopwords\n",
    "from gensim.models import FastText # using FastText and not word2vec as it can handle out-of-vocabulary terms"
   ]
  },
  {
   "cell_type": "code",
   "execution_count": 3,
   "id": "2ec6571b",
   "metadata": {},
   "outputs": [],
   "source": [
    "max_matches = 10"
   ]
  },
  {
   "cell_type": "markdown",
   "id": "81a54083",
   "metadata": {},
   "source": [
    "# Load data"
   ]
  },
  {
   "cell_type": "code",
   "execution_count": 4,
   "id": "aae7ec29",
   "metadata": {},
   "outputs": [],
   "source": [
    "contacts = pd.read_csv('Contacts.csv', index_col=[0])\n",
    "edu = pd.read_csv('Education.csv', index_col=[0])\n",
    "exp = pd.read_csv('Experience.csv', index_col=[0], parse_dates = [1,2])\n",
    "open_reqs = pd.read_excel('Open Req Data.xlsx', index_col=[0], sheet_name = 'ReqDetails')"
   ]
  },
  {
   "cell_type": "code",
   "execution_count": 5,
   "id": "b7671c76",
   "metadata": {},
   "outputs": [],
   "source": [
    "old_req_titles = pd.read_csv('Old RUS req titles.csv', index_col=[0])"
   ]
  },
  {
   "cell_type": "markdown",
   "id": "6c38810f",
   "metadata": {},
   "source": [
    "# Create a combined Candidate record dataframe\n",
    "* Calculate max degree\n",
    "* Calculate Years of experience\n",
    "* Concat all expereinces together"
   ]
  },
  {
   "cell_type": "code",
   "execution_count": 6,
   "id": "841f0afd",
   "metadata": {},
   "outputs": [],
   "source": [
    "# group contact experience by contactid and cacl Years of experience & list of job titles\n",
    "gb = exp.reset_index().groupby(['Contact Id'])\n",
    "exp_summary = gb.agg({'Job Start Date':'min', 'Job End Date':'max', 'Job Title': list})\n",
    "exp_summary['Years Of Experience'] = (exp_summary['Job End Date'] - exp_summary['Job Start Date']) / np.timedelta64(1, 'Y')\n",
    "exp_summary.drop(['Job Start Date', 'Job End Date'], axis=1, inplace=True)\n",
    "exp_summary.columns = ['All Job Titles','Years Of Experience']"
   ]
  },
  {
   "cell_type": "code",
   "execution_count": 7,
   "id": "ad332386",
   "metadata": {},
   "outputs": [],
   "source": [
    "bachelor_terms = ['bsee','bsce','bscs','bachelor','bachelors','btech','bs','bsc','ba','bcom','bca','baccalaureate','beng','bachiller','undergraduate']\n",
    "masters_terms = ['msee','msce','mscs','master','masters','mba','ms','msc','mtech','mca','postgraduate','ma','magister','meng']\n",
    "phd_terms = ['doctor','doctorate','phd']\n",
    "    \n",
    "def get_degree(text):\n",
    "    text = text.lower()\n",
    "    for token in bachelor_terms:\n",
    "        if token in text:\n",
    "            return 1\n",
    "    for token in masters_terms:\n",
    "         if token in text:\n",
    "            return 2\n",
    "    for token in phd_terms:\n",
    "         if token in text:\n",
    "            return 3\n",
    "    return 0"
   ]
  },
  {
   "cell_type": "code",
   "execution_count": 8,
   "id": "9188fa5f",
   "metadata": {},
   "outputs": [
    {
     "data": {
      "text/html": [
       "<div>\n",
       "<style scoped>\n",
       "    .dataframe tbody tr th:only-of-type {\n",
       "        vertical-align: middle;\n",
       "    }\n",
       "\n",
       "    .dataframe tbody tr th {\n",
       "        vertical-align: top;\n",
       "    }\n",
       "\n",
       "    .dataframe thead th {\n",
       "        text-align: right;\n",
       "    }\n",
       "</style>\n",
       "<table border=\"1\" class=\"dataframe\">\n",
       "  <thead>\n",
       "    <tr style=\"text-align: right;\">\n",
       "      <th></th>\n",
       "      <th>Degree Level</th>\n",
       "      <th>Discipline Category</th>\n",
       "      <th>Major</th>\n",
       "      <th>Grad Year</th>\n",
       "      <th>Graduated</th>\n",
       "      <th>Degree Level Int</th>\n",
       "    </tr>\n",
       "    <tr>\n",
       "      <th>Contact Id</th>\n",
       "      <th></th>\n",
       "      <th></th>\n",
       "      <th></th>\n",
       "      <th></th>\n",
       "      <th></th>\n",
       "      <th></th>\n",
       "    </tr>\n",
       "  </thead>\n",
       "  <tbody>\n",
       "    <tr>\n",
       "      <th>41967680</th>\n",
       "      <td></td>\n",
       "      <td>NaN</td>\n",
       "      <td>NaN</td>\n",
       "      <td>4031</td>\n",
       "      <td>Y</td>\n",
       "      <td>0</td>\n",
       "    </tr>\n",
       "    <tr>\n",
       "      <th>41962093</th>\n",
       "      <td>Bachelor of Computer Science</td>\n",
       "      <td>Computer Science/Software</td>\n",
       "      <td>Software Engineering</td>\n",
       "      <td>2021</td>\n",
       "      <td>Y</td>\n",
       "      <td>1</td>\n",
       "    </tr>\n",
       "    <tr>\n",
       "      <th>41961851</th>\n",
       "      <td></td>\n",
       "      <td>NaN</td>\n",
       "      <td>British and American Studies</td>\n",
       "      <td>2018</td>\n",
       "      <td>Y</td>\n",
       "      <td>0</td>\n",
       "    </tr>\n",
       "    <tr>\n",
       "      <th>41961851</th>\n",
       "      <td>Bachelor's</td>\n",
       "      <td>NaN</td>\n",
       "      <td>English &amp; Spanish languages</td>\n",
       "      <td>2016</td>\n",
       "      <td>Y</td>\n",
       "      <td>1</td>\n",
       "    </tr>\n",
       "    <tr>\n",
       "      <th>41961851</th>\n",
       "      <td>Bachelor's</td>\n",
       "      <td>NaN</td>\n",
       "      <td>Finance and Credit</td>\n",
       "      <td>2017</td>\n",
       "      <td>Y</td>\n",
       "      <td>1</td>\n",
       "    </tr>\n",
       "  </tbody>\n",
       "</table>\n",
       "</div>"
      ],
      "text/plain": [
       "                            Degree Level        Discipline Category  \\\n",
       "Contact Id                                                            \n",
       "41967680                                                        NaN   \n",
       "41962093    Bachelor of Computer Science  Computer Science/Software   \n",
       "41961851                                                        NaN   \n",
       "41961851                      Bachelor's                        NaN   \n",
       "41961851                      Bachelor's                        NaN   \n",
       "\n",
       "                                   Major  Grad Year Graduated  \\\n",
       "Contact Id                                                      \n",
       "41967680                             NaN       4031         Y   \n",
       "41962093            Software Engineering       2021         Y   \n",
       "41961851    British and American Studies       2018         Y   \n",
       "41961851     English & Spanish languages       2016         Y   \n",
       "41961851              Finance and Credit       2017         Y   \n",
       "\n",
       "            Degree Level Int  \n",
       "Contact Id                    \n",
       "41967680                   0  \n",
       "41962093                   1  \n",
       "41961851                   0  \n",
       "41961851                   1  \n",
       "41961851                   1  "
      ]
     },
     "execution_count": 8,
     "metadata": {},
     "output_type": "execute_result"
    }
   ],
   "source": [
    "edu['Degree Level'].fillna('', inplace=True)\n",
    "edu['Degree Level Int'] = edu['Degree Level'].apply(get_degree)\n",
    "edu.head()"
   ]
  },
  {
   "cell_type": "code",
   "execution_count": 9,
   "id": "6b2c1a47",
   "metadata": {},
   "outputs": [],
   "source": [
    "edu_summary = edu.reset_index().groupby('Contact Id').agg({'Degree Level Int':'max'}) # get max degree for each contact\n",
    "# merge education and experience summary data into the main contact df\n",
    "full_contacts = contacts.merge(edu_summary, how='inner', left_index = True, right_index=True).merge(exp_summary, how='inner', left_index = True, right_index=True)"
   ]
  },
  {
   "cell_type": "markdown",
   "id": "a841b128",
   "metadata": {},
   "source": [
    "# Prepare data"
   ]
  },
  {
   "cell_type": "code",
   "execution_count": 10,
   "id": "b66fffd6",
   "metadata": {},
   "outputs": [],
   "source": [
    "def clean_text_column(col):\n",
    "    col = col.astype(str)                              # convert to string\n",
    "    col = col.str.lower()                              # lowercase\n",
    "    col = col.replace(\"\\W\",\" \", regex = True)          # remove all non-alphanumeric characters\n",
    "    col = col.replace(\"\\d\",\" \", regex = True)          # remove all numeric characters\n",
    "    col = col.replace(\"\\s+\", \" \", regex = True)        # replace all whitspace chars with a single space character\n",
    "    col = col.replace(\"nan\", \"\", regex = True)         # remove 'nan' entries\n",
    "    col = col.str.strip()                              # strip training spaces\n",
    "    return col"
   ]
  },
  {
   "cell_type": "markdown",
   "id": "78a8af1f",
   "metadata": {},
   "source": [
    "## Embedding method"
   ]
  },
  {
   "cell_type": "code",
   "execution_count": 11,
   "id": "6df42266",
   "metadata": {},
   "outputs": [],
   "source": [
    "# take a list of documents and word vectors object and return document embedding (as mean word embedding)\n",
    "def embed_documents(documents, word_vectors):\n",
    "    if (type(documents)!=list): # if the input is not a list, but a series, we will convert it to list of lists\n",
    "        documents = documents.str.split().to_list() # convert each document to a list of tokens, so this will return a list of lists\n",
    "    doc_vectors = []\n",
    "    for doc in documents:\n",
    "        if len(doc)>0:\n",
    "            doc_vectors.append(word_vectors[doc].mean(axis=0)) # embed each document token and save mean embedding\n",
    "        else:\n",
    "            doc_vectors.append(np.zeros(word_vectors.vector_size)) # if the document is empty, return an zero vector of an approprizte size\n",
    "    return np.array(doc_vectors)"
   ]
  },
  {
   "cell_type": "markdown",
   "id": "b87f4238",
   "metadata": {},
   "source": [
    "## Load embedding model"
   ]
  },
  {
   "cell_type": "code",
   "execution_count": 12,
   "id": "96bb2b55",
   "metadata": {},
   "outputs": [],
   "source": [
    "loaded_model = FastText.load('FastText_Embedding') # load the model later, at inference"
   ]
  },
  {
   "cell_type": "code",
   "execution_count": 13,
   "id": "2450d841",
   "metadata": {},
   "outputs": [
    {
     "data": {
      "text/plain": [
       "0.44259718"
      ]
     },
     "execution_count": 13,
     "metadata": {},
     "output_type": "execute_result"
    }
   ],
   "source": [
    "word_vectors = loaded_model.wv # get word_vectors object\n",
    "word_vectors.similarity(\"developer\", \"programmer\")"
   ]
  },
  {
   "cell_type": "markdown",
   "id": "0f9e9632",
   "metadata": {},
   "source": [
    "# Full match calculation\n",
    "\n",
    "* Experience match using topic model\n",
    "* Min degree match\n",
    "* Years of experience match\n",
    "* Combined match"
   ]
  },
  {
   "cell_type": "markdown",
   "id": "7215b94b",
   "metadata": {},
   "source": [
    "## Embed candidate experiences and req titles"
   ]
  },
  {
   "cell_type": "code",
   "execution_count": 14,
   "id": "b6c27bfa",
   "metadata": {},
   "outputs": [],
   "source": [
    "# clean 'All Job Titles' column\n",
    "contacts_job_titles = clean_text_column(full_contacts['All Job Titles']).apply(remove_stopwords)"
   ]
  },
  {
   "cell_type": "code",
   "execution_count": 15,
   "id": "f8be2e9f",
   "metadata": {},
   "outputs": [],
   "source": [
    "# embed candidate experience\n",
    "full_contacts_exp_embedding = embed_documents(contacts_job_titles, word_vectors) # embed candidate experience text"
   ]
  },
  {
   "cell_type": "code",
   "execution_count": 16,
   "id": "dc24ecff",
   "metadata": {},
   "outputs": [],
   "source": [
    "# find open req titles (in the final solution I should already have it from BOBJ feed)\n",
    "open_reqs = open_reqs.merge(old_req_titles, left_index=True, right_index=True) # bring req titles to open reqs"
   ]
  },
  {
   "cell_type": "code",
   "execution_count": 17,
   "id": "7e381fcc",
   "metadata": {},
   "outputs": [],
   "source": [
    "# embed open req titles \n",
    "req_job_titles_clean = clean_text_column(open_reqs['Job Title']).apply(remove_stopwords)\n",
    "req_titles_embedding = embed_documents(req_job_titles_clean, word_vectors) # embed hire req title"
   ]
  },
  {
   "cell_type": "markdown",
   "id": "a4aeb11a",
   "metadata": {},
   "source": [
    "## Find for each req candidates who match based on degree and min experience"
   ]
  },
  {
   "cell_type": "code",
   "execution_count": 18,
   "id": "f91f5890",
   "metadata": {},
   "outputs": [],
   "source": [
    "def find_minimally_qualified_candidates(req_num):\n",
    "    req_details = open_reqs.loc[req_num]\n",
    "    req_row_num = open_reqs.index.get_loc(req_num)\n",
    "    minimally_qualified_candidates = full_contacts\n",
    "    \n",
    "    # if we found degree requirements on the req, filter candidates by that requirement \n",
    "    if req_details.LowestDegree > 0: \n",
    "        minimally_qualified_candidates = minimally_qualified_candidates[minimally_qualified_candidates['Degree Level Int']>=req_details.LowestDegree]\n",
    "    \n",
    "    # if we found years of experience requirements on the req, filter candidates by that requirement \n",
    "    if req_details.MinExperience > 0:\n",
    "        minimally_qualified_candidates = minimally_qualified_candidates[minimally_qualified_candidates['Years Of Experience']>=req_details.MinExperience]\n",
    "        \n",
    "    return minimally_qualified_candidates"
   ]
  },
  {
   "cell_type": "markdown",
   "id": "6ee5c02b",
   "metadata": {},
   "source": [
    "## Calculate experience similarity matrix \n",
    "\n",
    "Between each open req and each candidate"
   ]
  },
  {
   "cell_type": "code",
   "execution_count": 19,
   "id": "cb86e7d5",
   "metadata": {},
   "outputs": [],
   "source": [
    "similarity = cosine_similarity(req_titles_embedding, full_contacts_exp_embedding) # rows are positions and columns are candidates\n",
    "similarity_df = pd.DataFrame(similarity, index=open_reqs.index, columns=full_contacts.index)"
   ]
  },
  {
   "cell_type": "code",
   "execution_count": 20,
   "id": "e395d12c",
   "metadata": {},
   "outputs": [
    {
     "data": {
      "text/plain": [
       "(65, 5609)"
      ]
     },
     "execution_count": 20,
     "metadata": {},
     "output_type": "execute_result"
    }
   ],
   "source": [
    "similarity.shape"
   ]
  },
  {
   "cell_type": "markdown",
   "id": "df6a528c",
   "metadata": {},
   "source": [
    "## Find matches for each position"
   ]
  },
  {
   "cell_type": "code",
   "execution_count": 21,
   "id": "d70f7056",
   "metadata": {},
   "outputs": [],
   "source": [
    "def find_req_matches(req_num, match_count):\n",
    "    matches = find_minimally_qualified_candidates(req_num) # get a list of candidates who fit req minimal requirements\n",
    "    exp_similarity_vector = similarity_df.loc[req_num] # get experience similarity of each candidate for this req\n",
    "    matches = matches.merge(exp_similarity_vector, left_index=True, right_index=True) # append experience similarity as a column to matches dataframe \n",
    "    matches.columns = list(matches.columns[:-1]) + ['Match'] # rename the last column\n",
    "    return matches.sort_values(by='Match', ascending=False)[:match_count] # return top X matches"
   ]
  },
  {
   "cell_type": "code",
   "execution_count": 22,
   "id": "cea8b381",
   "metadata": {},
   "outputs": [],
   "source": [
    "top_candidates_for_all_positions = []\n",
    "\n",
    "for req in open_reqs.index:\n",
    "    matches = find_req_matches(req, max_matches)\n",
    "    matches['Req Number'] = req\n",
    "    top_candidates_for_all_positions.append(matches)"
   ]
  },
  {
   "cell_type": "code",
   "execution_count": 23,
   "id": "ab4765c9",
   "metadata": {},
   "outputs": [],
   "source": [
    "# convert the results to a df\n",
    "top_candidates_for_all_positions_df = pd.concat(top_candidates_for_all_positions)\n",
    "top_candidates_for_all_positions_df.index.name = 'Contact Id'\n",
    "top_candidates_for_all_positions_df.reset_index(inplace=True)"
   ]
  },
  {
   "cell_type": "code",
   "execution_count": 24,
   "id": "bcd82bb6",
   "metadata": {},
   "outputs": [],
   "source": [
    "# add position title to the dataframe\n",
    "top_candidates_for_all_positions_df = top_candidates_for_all_positions_df.merge(old_req_titles, left_on='Req Number', right_index=True)"
   ]
  },
  {
   "cell_type": "code",
   "execution_count": 25,
   "id": "b31432fc",
   "metadata": {},
   "outputs": [],
   "source": [
    "# reorder columns and remove unnecessary ones\n",
    "top_candidates_for_all_positions_df = top_candidates_for_all_positions_df[['Req Number', 'Job Title','Contact Id', 'WD Candidate Id', 'Full Name', 'Email',\n",
    "                                                                           'Degree Level Int', 'All Job Titles', 'Years Of Experience', 'Match']]"
   ]
  },
  {
   "cell_type": "code",
   "execution_count": 26,
   "id": "f6a2953f",
   "metadata": {},
   "outputs": [],
   "source": [
    "# map degree number to degree level name\n",
    "degree_mapping = {0:'Unknown', 1:'Bachelor', 2:'Masters', 3:'Doctorate'}\n",
    "top_candidates_for_all_positions_df['Degree Level Int'] = top_candidates_for_all_positions_df['Degree Level Int'].map(degree_mapping)"
   ]
  },
  {
   "cell_type": "code",
   "execution_count": 27,
   "id": "f1db6f72",
   "metadata": {},
   "outputs": [],
   "source": [
    "top_candidates_for_all_positions_df['WD Candidate Id'].fillna('', inplace=True)"
   ]
  },
  {
   "cell_type": "code",
   "execution_count": 28,
   "id": "ec8ef851",
   "metadata": {},
   "outputs": [],
   "source": [
    "# round expereience and match column\n",
    "top_candidates_for_all_positions_df['Years Of Experience'] = top_candidates_for_all_positions_df['Years Of Experience'].round(1) \n",
    "top_candidates_for_all_positions_df['Match'] = top_candidates_for_all_positions_df['Match'].round(2) "
   ]
  },
  {
   "cell_type": "code",
   "execution_count": 29,
   "id": "e71c49d6",
   "metadata": {},
   "outputs": [],
   "source": [
    "top_candidates_for_all_positions_df.rename(columns={'Degree Level Int': 'Degree Level'}, inplace=True)"
   ]
  },
  {
   "cell_type": "code",
   "execution_count": 30,
   "id": "3900f51e",
   "metadata": {},
   "outputs": [],
   "source": [
    "# remove extra spaces in Full Name column\n",
    "top_candidates_for_all_positions_df['Full Name'] = top_candidates_for_all_positions_df['Full Name'].str.replace(\"\\s+\", \" \", regex = True)"
   ]
  },
  {
   "cell_type": "code",
   "execution_count": 31,
   "id": "a3a18555",
   "metadata": {},
   "outputs": [],
   "source": [
    "# blank out annonbimized WD Candidate Id\n",
    "annonimized_mask = top_candidates_for_all_positions_df['WD Candidate Id'].str.startswith('0x')\n",
    "top_candidates_for_all_positions_df.loc[annonimized_mask, ['Full Name','Email','WD Candidate Id']] = ''"
   ]
  },
  {
   "cell_type": "code",
   "execution_count": 32,
   "id": "f5f7fe17",
   "metadata": {},
   "outputs": [],
   "source": [
    "# clean All Job Titles, leaving only normal text separated by commas\n",
    "top_candidates_for_all_positions_df['All Job Titles'] = top_candidates_for_all_positions_df['All Job Titles'].astype(str)\n",
    "top_candidates_for_all_positions_df['All Job Titles'] = top_candidates_for_all_positions_df['All Job Titles'].str.replace(\"[\\]\\[\\']\",\"\", regex = True) # remove list symbols\n",
    "top_candidates_for_all_positions_df['All Job Titles'] = top_candidates_for_all_positions_df['All Job Titles'].replace(\"nan, \", \"\", regex = True)     # remove nan entries\n",
    "top_candidates_for_all_positions_df['All Job Titles'] = top_candidates_for_all_positions_df['All Job Titles'].replace(\" nan,\", \"\", regex = True)     # remove nan entries"
   ]
  },
  {
   "cell_type": "code",
   "execution_count": 33,
   "id": "8771492a",
   "metadata": {},
   "outputs": [
    {
     "data": {
      "text/html": [
       "<div>\n",
       "<style scoped>\n",
       "    .dataframe tbody tr th:only-of-type {\n",
       "        vertical-align: middle;\n",
       "    }\n",
       "\n",
       "    .dataframe tbody tr th {\n",
       "        vertical-align: top;\n",
       "    }\n",
       "\n",
       "    .dataframe thead th {\n",
       "        text-align: right;\n",
       "    }\n",
       "</style>\n",
       "<table border=\"1\" class=\"dataframe\">\n",
       "  <thead>\n",
       "    <tr style=\"text-align: right;\">\n",
       "      <th></th>\n",
       "      <th>Req Number</th>\n",
       "      <th>Job Title</th>\n",
       "      <th>Contact Id</th>\n",
       "      <th>Degree Level</th>\n",
       "      <th>All Job Titles</th>\n",
       "      <th>Years Of Experience</th>\n",
       "      <th>Match</th>\n",
       "    </tr>\n",
       "  </thead>\n",
       "  <tbody>\n",
       "    <tr>\n",
       "      <th>0</th>\n",
       "      <td>JR0137595</td>\n",
       "      <td>Deep Learning Software Engineer (Federated Lea...</td>\n",
       "      <td>38519944</td>\n",
       "      <td>Unknown</td>\n",
       "      <td>Machine learning engineer, Deep Learning Engin...</td>\n",
       "      <td>2.7</td>\n",
       "      <td>0.98</td>\n",
       "    </tr>\n",
       "    <tr>\n",
       "      <th>1</th>\n",
       "      <td>JR0137595</td>\n",
       "      <td>Deep Learning Software Engineer (Federated Lea...</td>\n",
       "      <td>37781211</td>\n",
       "      <td>Unknown</td>\n",
       "      <td>Machine learning engineer, Deep Learning Engin...</td>\n",
       "      <td>2.7</td>\n",
       "      <td>0.98</td>\n",
       "    </tr>\n",
       "    <tr>\n",
       "      <th>2</th>\n",
       "      <td>JR0137595</td>\n",
       "      <td>Deep Learning Software Engineer (Federated Lea...</td>\n",
       "      <td>34551721</td>\n",
       "      <td>Unknown</td>\n",
       "      <td>Deep Learning Software Engineering Intern</td>\n",
       "      <td>4.4</td>\n",
       "      <td>0.94</td>\n",
       "    </tr>\n",
       "    <tr>\n",
       "      <th>3</th>\n",
       "      <td>JR0137595</td>\n",
       "      <td>Deep Learning Software Engineer (Federated Lea...</td>\n",
       "      <td>33771037</td>\n",
       "      <td>Bachelor</td>\n",
       "      <td>Machine learning engineer, Machine learning en...</td>\n",
       "      <td>2.8</td>\n",
       "      <td>0.93</td>\n",
       "    </tr>\n",
       "    <tr>\n",
       "      <th>4</th>\n",
       "      <td>JR0137595</td>\n",
       "      <td>Deep Learning Software Engineer (Federated Lea...</td>\n",
       "      <td>39178007</td>\n",
       "      <td>Masters</td>\n",
       "      <td>MACHINE LEARNING RESEARCH ENGINEER</td>\n",
       "      <td>7.0</td>\n",
       "      <td>0.89</td>\n",
       "    </tr>\n",
       "  </tbody>\n",
       "</table>\n",
       "</div>"
      ],
      "text/plain": [
       "  Req Number                                          Job Title  Contact Id  \\\n",
       "0  JR0137595  Deep Learning Software Engineer (Federated Lea...    38519944   \n",
       "1  JR0137595  Deep Learning Software Engineer (Federated Lea...    37781211   \n",
       "2  JR0137595  Deep Learning Software Engineer (Federated Lea...    34551721   \n",
       "3  JR0137595  Deep Learning Software Engineer (Federated Lea...    33771037   \n",
       "4  JR0137595  Deep Learning Software Engineer (Federated Lea...    39178007   \n",
       "\n",
       "  Degree Level                                     All Job Titles  \\\n",
       "0      Unknown  Machine learning engineer, Deep Learning Engin...   \n",
       "1      Unknown  Machine learning engineer, Deep Learning Engin...   \n",
       "2      Unknown          Deep Learning Software Engineering Intern   \n",
       "3     Bachelor  Machine learning engineer, Machine learning en...   \n",
       "4      Masters                 MACHINE LEARNING RESEARCH ENGINEER   \n",
       "\n",
       "   Years Of Experience  Match  \n",
       "0                  2.7   0.98  \n",
       "1                  2.7   0.98  \n",
       "2                  4.4   0.94  \n",
       "3                  2.8   0.93  \n",
       "4                  7.0   0.89  "
      ]
     },
     "execution_count": 33,
     "metadata": {},
     "output_type": "execute_result"
    }
   ],
   "source": [
    "top_candidates_for_all_positions_df[['Req Number', 'Job Title', 'Contact Id', 'Degree Level', 'All Job Titles', 'Years Of Experience', 'Match']].head()"
   ]
  },
  {
   "cell_type": "code",
   "execution_count": 34,
   "id": "7ac23fd5",
   "metadata": {},
   "outputs": [],
   "source": [
    "top_candidates_for_all_positions_df.to_excel('Match Results.xlsx', index=False)"
   ]
  }
 ],
 "metadata": {
  "kernelspec": {
   "display_name": "Python 3",
   "language": "python",
   "name": "python3"
  },
  "language_info": {
   "codemirror_mode": {
    "name": "ipython",
    "version": 3
   },
   "file_extension": ".py",
   "mimetype": "text/x-python",
   "name": "python",
   "nbconvert_exporter": "python",
   "pygments_lexer": "ipython3",
   "version": "3.8.3"
  }
 },
 "nbformat": 4,
 "nbformat_minor": 5
}
